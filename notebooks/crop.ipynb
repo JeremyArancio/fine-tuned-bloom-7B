{
 "cells": [
  {
   "cell_type": "code",
   "execution_count": 9,
   "metadata": {},
   "outputs": [
    {
     "name": "stdout",
     "output_type": "stream",
     "text": [
      "tree: it was still alive and had leaves on the small branches that it\n",
      "had put out round the broken stumps of its long-fallen limbs; but it\n",
      "was hollow, and could be entered by a great crack on the side away\n",
      "from the road. The hobbits crept inside, and sat there upon a floor\n",
      "of old leaves and decayed wood. They rested and had a light meal,\n",
      "talking quietly and listening from time to time.\n",
      "Twilight was about them as they crept back to the lane. The West\n",
      "wind was sighing in the branches. Leaves were whispering. Soon the\n",
      "road began to fall gently but steadily into the dusk. A star came out\n",
      "above the trees in the darkening East before them. They went abreast\n",
      "and in step, to keep up their spirits. After a time, as the stars grew\n",
      "thicker and brighter, the feeling of disquiet left them, and they no\n",
      "longer listened for the sound of hoofs. They began to hum softly, as\n",
      "hobbits have a way of doing as they walk along, especially when\n",
      "they are drawing near to home at night. With most hobbits it is a\n",
      "supper-song or a bed-song; but these hobbits hummed a walking-song\n",
      "(though not, of course, without any mention of supper and bed).\n",
      "Bilbo Baggins had made the words, to a tune that was as old as\n",
      "the hills, and taught it to Frodo as they walked in the lanes of the\n",
      "Water-valley and talked about Adventure.\n",
      "Upon the hearth the fire is red,\n",
      "Beneath the roof there is a bed;\n",
      "But not yet weary are our feet,\n",
      "Still round the corner we may meet\n",
      "A sudden tree or standing stone\n",
      "That none have seen but we alone.\n",
      "Tree and flower and leaf and grass,\n",
      "Let them pass! Let them pass!\n",
      "Hill and water under sky,\n",
      "Pass them by! Pass them by!\n",
      "Still round the corner there may wait\n",
      "A new road or a secret gate,\n",
      "And though we pass them by today,\n",
      "Tomorrow we may come this way\n",
      "And take the hidden paths that run\n",
      "Towards the Moon or to the Sun.\n",
      "Apple, thorn, and nut and sloe,\n",
      "Let them go! Let them go!\n",
      "Sand and stone and pool and dell,\n",
      "Fare you well! Fare you well!\n"
     ]
    }
   ],
   "source": [
    "import pdfplumber\n",
    "import requests\n",
    "import io\n",
    "\n",
    "url = 'https://gosafir.com/mag/wp-content/uploads/2019/12/Tolkien-J.-The-lord-of-the-rings-HarperCollins-ebooks-2010.pdf'\n",
    "header_height = 60  # Height of header in pixels\n",
    "footer_height = 540\n",
    "\n",
    "def extract_page_without_header_footer(url, header_height: int, footer_height: int, page_number: int):\n",
    "    response = requests.get(url)\n",
    "    content = io.BytesIO(response.content)\n",
    "    pdf = pdfplumber.open(content)\n",
    "    page = pdf.pages[page_number]\n",
    "    bbox = (0, header_height, page.width, footer_height) # Top-left corner, bottom-right corner\n",
    "    cropped_page = page.crop(bbox=bbox)\n",
    "    return cropped_page\n",
    "\n",
    "cropped_page = extract_page_without_header_footer(url, header_height, footer_height, page_number=100)\n",
    "print(cropped_page.extract_text())"
   ]
  },
  {
   "cell_type": "code",
   "execution_count": 73,
   "metadata": {},
   "outputs": [
    {
     "ename": "PolicyError",
     "evalue": "attempt to perform an operation not allowed by the security policy `PDF' @ error/constitute.c/IsCoderAuthorized/408",
     "output_type": "error",
     "traceback": [
      "\u001b[0;31m---------------------------------------------------------------------------\u001b[0m",
      "\u001b[0;31mPolicyError\u001b[0m                               Traceback (most recent call last)",
      "Cell \u001b[0;32mIn[73], line 2\u001b[0m\n\u001b[1;32m      1\u001b[0m cropped_page \u001b[39m=\u001b[39m extract_page_without_header_footer(url, header_height, page_number\u001b[39m=\u001b[39m\u001b[39m100\u001b[39m)\n\u001b[0;32m----> 2\u001b[0m im \u001b[39m=\u001b[39m cropped_page\u001b[39m.\u001b[39;49mto_image()\n\u001b[1;32m      3\u001b[0m im\u001b[39m.\u001b[39mdraw_rects(cropped_page\u001b[39m.\u001b[39mextract_words())\n",
      "File \u001b[0;32m~/miniconda3/envs/bloom/lib/python3.9/site-packages/pdfplumber/page.py:431\u001b[0m, in \u001b[0;36mPage.to_image\u001b[0;34m(self, resolution, width, height)\u001b[0m\n\u001b[1;32m    428\u001b[0m \u001b[39melif\u001b[39;00m height \u001b[39mis\u001b[39;00m \u001b[39mnot\u001b[39;00m \u001b[39mNone\u001b[39;00m:\n\u001b[1;32m    429\u001b[0m     resolution \u001b[39m=\u001b[39m \u001b[39m72\u001b[39m \u001b[39m*\u001b[39m height \u001b[39m/\u001b[39m \u001b[39mself\u001b[39m\u001b[39m.\u001b[39mheight\n\u001b[0;32m--> 431\u001b[0m \u001b[39mreturn\u001b[39;00m PageImage(\u001b[39mself\u001b[39;49m, resolution\u001b[39m=\u001b[39;49mresolution \u001b[39mor\u001b[39;49;00m DEFAULT_RESOLUTION)\n",
      "File \u001b[0;32m~/miniconda3/envs/bloom/lib/python3.9/site-packages/pdfplumber/display.py:95\u001b[0m, in \u001b[0;36mPageImage.__init__\u001b[0;34m(self, page, original, resolution)\u001b[0m\n\u001b[1;32m     93\u001b[0m \u001b[39mself\u001b[39m\u001b[39m.\u001b[39mpage \u001b[39m=\u001b[39m page\n\u001b[1;32m     94\u001b[0m \u001b[39mif\u001b[39;00m original \u001b[39mis\u001b[39;00m \u001b[39mNone\u001b[39;00m:\n\u001b[0;32m---> 95\u001b[0m     \u001b[39mself\u001b[39m\u001b[39m.\u001b[39moriginal \u001b[39m=\u001b[39m get_page_image(\n\u001b[1;32m     96\u001b[0m         page\u001b[39m.\u001b[39;49mpdf\u001b[39m.\u001b[39;49mstream, page\u001b[39m.\u001b[39;49mpage_number \u001b[39m-\u001b[39;49m \u001b[39m1\u001b[39;49m, resolution\n\u001b[1;32m     97\u001b[0m     )\n\u001b[1;32m     98\u001b[0m \u001b[39melse\u001b[39;00m:\n\u001b[1;32m     99\u001b[0m     \u001b[39mself\u001b[39m\u001b[39m.\u001b[39moriginal \u001b[39m=\u001b[39m original\n",
      "File \u001b[0;32m~/miniconda3/envs/bloom/lib/python3.9/site-packages/pdfplumber/display.py:56\u001b[0m, in \u001b[0;36mget_page_image\u001b[0;34m(stream, page_no, resolution)\u001b[0m\n\u001b[1;32m     53\u001b[0m     \u001b[39mdef\u001b[39;00m \u001b[39mpostprocess\u001b[39m(img: WandImage) \u001b[39m-\u001b[39m\u001b[39m>\u001b[39m WandImage:\n\u001b[1;32m     54\u001b[0m         \u001b[39mreturn\u001b[39;00m WandImage(image\u001b[39m=\u001b[39mimg\u001b[39m.\u001b[39msequence[page_no])\n\u001b[0;32m---> 56\u001b[0m \u001b[39mwith\u001b[39;00m WandImage(\n\u001b[1;32m     57\u001b[0m     resolution\u001b[39m=\u001b[39;49mresolution,\n\u001b[1;32m     58\u001b[0m     filename\u001b[39m=\u001b[39;49mfilename,\n\u001b[1;32m     59\u001b[0m     file\u001b[39m=\u001b[39;49mfile,\n\u001b[1;32m     60\u001b[0m     colorspace\u001b[39m=\u001b[39;49m\u001b[39m\"\u001b[39;49m\u001b[39mrgb\u001b[39;49m\u001b[39m\"\u001b[39;49m,\n\u001b[1;32m     61\u001b[0m     \u001b[39mformat\u001b[39;49m\u001b[39m=\u001b[39;49m\u001b[39m\"\u001b[39;49m\u001b[39mpdf\u001b[39;49m\u001b[39m\"\u001b[39;49m,\n\u001b[1;32m     62\u001b[0m ) \u001b[39mas\u001b[39;00m img_init:\n\u001b[1;32m     63\u001b[0m     img \u001b[39m=\u001b[39m postprocess(img_init)\n\u001b[1;32m     64\u001b[0m     \u001b[39mwith\u001b[39;00m WandImage(\n\u001b[1;32m     65\u001b[0m         width\u001b[39m=\u001b[39mimg\u001b[39m.\u001b[39mwidth,\n\u001b[1;32m     66\u001b[0m         height\u001b[39m=\u001b[39mimg\u001b[39m.\u001b[39mheight,\n\u001b[1;32m     67\u001b[0m         background\u001b[39m=\u001b[39mWandColor(\u001b[39m\"\u001b[39m\u001b[39mwhite\u001b[39m\u001b[39m\"\u001b[39m),\n\u001b[1;32m     68\u001b[0m         colorspace\u001b[39m=\u001b[39m\u001b[39m\"\u001b[39m\u001b[39mrgb\u001b[39m\u001b[39m\"\u001b[39m,\n\u001b[1;32m     69\u001b[0m     ) \u001b[39mas\u001b[39;00m bg:\n",
      "File \u001b[0;32m~/miniconda3/envs/bloom/lib/python3.9/site-packages/wand/image.py:9361\u001b[0m, in \u001b[0;36mImage.__init__\u001b[0;34m(self, image, blob, file, filename, pseudo, background, colorspace, depth, extract, format, height, interlace, resolution, sampling_factors, units, width)\u001b[0m\n\u001b[1;32m   9354\u001b[0m \u001b[39mself\u001b[39m\u001b[39m.\u001b[39m_preamble_read(\n\u001b[1;32m   9355\u001b[0m     background\u001b[39m=\u001b[39mbackground, colorspace\u001b[39m=\u001b[39mcolorspace, depth\u001b[39m=\u001b[39mdepth,\n\u001b[1;32m   9356\u001b[0m     extract\u001b[39m=\u001b[39mextract, \u001b[39mformat\u001b[39m\u001b[39m=\u001b[39m\u001b[39mformat\u001b[39m, height\u001b[39m=\u001b[39mheight,\n\u001b[1;32m   9357\u001b[0m     interlace\u001b[39m=\u001b[39minterlace, resolution\u001b[39m=\u001b[39mresolution,\n\u001b[1;32m   9358\u001b[0m     sampling_factors\u001b[39m=\u001b[39msampling_factors, width\u001b[39m=\u001b[39mwidth\n\u001b[1;32m   9359\u001b[0m )\n\u001b[1;32m   9360\u001b[0m \u001b[39mif\u001b[39;00m file \u001b[39mis\u001b[39;00m \u001b[39mnot\u001b[39;00m \u001b[39mNone\u001b[39;00m:\n\u001b[0;32m-> 9361\u001b[0m     \u001b[39mself\u001b[39;49m\u001b[39m.\u001b[39;49mread(file\u001b[39m=\u001b[39;49mfile)\n\u001b[1;32m   9362\u001b[0m \u001b[39melif\u001b[39;00m blob \u001b[39mis\u001b[39;00m \u001b[39mnot\u001b[39;00m \u001b[39mNone\u001b[39;00m:\n\u001b[1;32m   9363\u001b[0m     \u001b[39mself\u001b[39m\u001b[39m.\u001b[39mread(blob\u001b[39m=\u001b[39mblob)\n",
      "File \u001b[0;32m~/miniconda3/envs/bloom/lib/python3.9/site-packages/wand/image.py:10120\u001b[0m, in \u001b[0;36mImage.read\u001b[0;34m(self, file, filename, blob, background, colorspace, depth, extract, format, height, interlace, resolution, sampling_factors, units, width)\u001b[0m\n\u001b[1;32m  10118\u001b[0m     r \u001b[39m=\u001b[39m library\u001b[39m.\u001b[39mMagickReadImage(\u001b[39mself\u001b[39m\u001b[39m.\u001b[39mwand, filename)\n\u001b[1;32m  10119\u001b[0m \u001b[39mif\u001b[39;00m \u001b[39mnot\u001b[39;00m r:\n\u001b[0;32m> 10120\u001b[0m     \u001b[39mself\u001b[39;49m\u001b[39m.\u001b[39;49mraise_exception()\n\u001b[1;32m  10121\u001b[0m     msg \u001b[39m=\u001b[39m (\u001b[39m'\u001b[39m\u001b[39mMagickReadImage returns false, but did not raise \u001b[39m\u001b[39m'\u001b[39m\n\u001b[1;32m  10122\u001b[0m            \u001b[39m'\u001b[39m\u001b[39mImageMagick  exception. This can occur when a delegate \u001b[39m\u001b[39m'\u001b[39m\n\u001b[1;32m  10123\u001b[0m            \u001b[39m'\u001b[39m\u001b[39mis missing, or returns EXIT_SUCCESS without generating a \u001b[39m\u001b[39m'\u001b[39m\n\u001b[1;32m  10124\u001b[0m            \u001b[39m'\u001b[39m\u001b[39mraster.\u001b[39m\u001b[39m'\u001b[39m)\n\u001b[1;32m  10125\u001b[0m     \u001b[39mraise\u001b[39;00m WandRuntimeError(msg)\n",
      "File \u001b[0;32m~/miniconda3/envs/bloom/lib/python3.9/site-packages/wand/resource.py:225\u001b[0m, in \u001b[0;36mResource.raise_exception\u001b[0;34m(self, stacklevel)\u001b[0m\n\u001b[1;32m    223\u001b[0m     warnings\u001b[39m.\u001b[39mwarn(e, stacklevel\u001b[39m=\u001b[39mstacklevel \u001b[39m+\u001b[39m \u001b[39m1\u001b[39m)\n\u001b[1;32m    224\u001b[0m \u001b[39melif\u001b[39;00m \u001b[39misinstance\u001b[39m(e, \u001b[39mException\u001b[39;00m):\n\u001b[0;32m--> 225\u001b[0m     \u001b[39mraise\u001b[39;00m e\n",
      "\u001b[0;31mPolicyError\u001b[0m: attempt to perform an operation not allowed by the security policy `PDF' @ error/constitute.c/IsCoderAuthorized/408"
     ]
    }
   ],
   "source": [
    "cropped_page = extract_page_without_header_footer(url, header_height, page_number=100)\n",
    "im = cropped_page.to_image()\n",
    "im.draw_rects(cropped_page.extract_words())"
   ]
  },
  {
   "cell_type": "code",
   "execution_count": null,
   "metadata": {},
   "outputs": [],
   "source": []
  }
 ],
 "metadata": {
  "kernelspec": {
   "display_name": "bloom",
   "language": "python",
   "name": "python3"
  },
  "language_info": {
   "codemirror_mode": {
    "name": "ipython",
    "version": 3
   },
   "file_extension": ".py",
   "mimetype": "text/x-python",
   "name": "python",
   "nbconvert_exporter": "python",
   "pygments_lexer": "ipython3",
   "version": "3.9.16"
  },
  "orig_nbformat": 4
 },
 "nbformat": 4,
 "nbformat_minor": 2
}
